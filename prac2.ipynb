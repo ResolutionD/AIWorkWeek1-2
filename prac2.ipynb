{
 "cells": [
  {
   "cell_type": "markdown",
   "metadata": {},
   "source": [
    "# Introduction to Artificial Intelligence for Non Computing"
   ]
  },
  {
   "cell_type": "markdown",
   "metadata": {},
   "source": [
    "## Practical 2 (weeks 3 - 4)"
   ]
  },
  {
   "cell_type": "markdown",
   "metadata": {},
   "source": [
    "## Search Techniques"
   ]
  },
  {
   "cell_type": "markdown",
   "metadata": {},
   "source": [
    "The following links provide additional information about depth first search and breath first search"
   ]
  },
  {
   "cell_type": "markdown",
   "metadata": {},
   "source": [
    "- Depth first search:   link：https://pan.baidu.com/s/1bkLHKKbSBNpfFuKwDyURqw  password：oy76\n",
    "- Breath first search:  link：https://pan.baidu.com/s/176g5q0W3rGbSAM5tZMraeg   password：7mdh"
   ]
  },
  {
   "cell_type": "markdown",
   "metadata": {},
   "source": [
    "#### Theory Questions "
   ]
  },
  {
   "cell_type": "markdown",
   "metadata": {},
   "source": [
    "1\\. What is an algorithm? A sequence of steps such as a recipe or a movie script.\n",
    "\n",
    "As a movie viewer, please write an algorithm for a process to \"see a movie\". Include details of the following for example (add additional information yourself):\n",
    "\t- The start conditions \n",
    "\t-- I want to watch a movie\n",
    "\t- Roles (people/actors involved) \n",
    "    --watcher, ticket seller etc \n",
    "    -Equipment required (\"props\")\n",
    "    --seats, ticket etc\n",
    "    - The scenes \n",
    "    -- scene 1 - buy ticket \n",
    "    -- ??? what happens next\n",
    "    -- scene 3, scene 3 ...\n",
    "    - Results/outcomes\n",
    "    -- ?\n"
   ]
  },
  {
   "cell_type": "markdown",
   "metadata": {},
   "source": [
    "_your answer here..._ \n",
    "\n",
    "***\n",
    "1.get the movie list and see the information of the movies\n",
    "2.choose the movie I want to see and get the time table of the movie\n",
    "3.choose the fit time and choose the seat\n",
    "4.buy the ticket and go to watch the movie"
   ]
  },
  {
   "cell_type": "markdown",
   "metadata": {},
   "source": [
    "2\\. A farmer with his wolf, duck and bag of corn come to the east side of a river they wish to cross. There is a boat at the rivers edge, but of course only the farmer can row. The boat can only hold two things (including the rower) at any one time. If the wolf is ever left alone with the duck, the wolf will eat it. Similarly if the duck is ever left alone with the corn, the duck will eat it. How can the farmer get across the river so that all four arrive safely on the other side? "
   ]
  },
  {
   "cell_type": "markdown",
   "metadata": {},
   "source": [
    "_your answer here..._ \n",
    "1. take the duck to the other side and return\n",
    "2. take the wolf to the other side and return with the duck\n",
    "3. take the corn to the other side and return\n",
    "4. take the duck to the other side\n",
    "***"
   ]
  },
  {
   "cell_type": "markdown",
   "metadata": {},
   "source": [
    " "
   ]
  },
  {
   "cell_type": "markdown",
   "metadata": {},
   "source": [
    "3\\.Explain why we determine our problem goals before we write the problem formulation (including the model and deciding what algorithm or techniques to use - for example search, or other method).\n",
    "\n",
    "See Chapter3.1 (Russel & Norvig)"
   ]
  },
  {
   "cell_type": "markdown",
   "metadata": {},
   "source": [
    "_your answer here..._ \n",
    "Because we need to decide what varibles we use in the algorithm. If we write the problem formulation first, we will not know what to include and what to leave out. So, until we have determined the problems goals, we can not arrives at the best algorithm and solution.\n",
    "****"
   ]
  },
  {
   "cell_type": "markdown",
   "metadata": {},
   "source": [
    "4\\. This question requires you to perform BFS and DFS on paper.\n",
    "\n",
    "<img src=\"img/p1.png\" width=\"180\" height=\"180\" >\n",
    "\n",
    "1. Simulate (on pencil-and-paper) breadth-first search starting from node A when the goal node is K.\n",
    "2. Simulate (on pencil-and-paper) depth first search starting from node A when the goal node is I.\n"
   ]
  },
  {
   "cell_type": "markdown",
   "metadata": {},
   "source": [
    "1. _your answer here..._\n",
    "  A-B-C-D-E-F-G-H-I\n",
    "2. _your answer here..._ \n",
    "  A-B-C-E-C-F-C-B-D-G-D-H-I\n",
    "***"
   ]
  },
  {
   "cell_type": "markdown",
   "metadata": {},
   "source": [
    "5\\.Consider a state space where the start state is number 1 and each state  k has two successors: numbers 2k and 2k + 1.\n",
    "- a. Draw the portion of the state space for states 1 to 15.\n",
    "- b. Suppose the goal state is 11. List the order in which nodes will be visited for breadthfirst\n",
    "search, depth-limited search with limit 3, and iterative deepening search.\n",
    "- c. How well would bidirectional search work on this problem? What is the branching\n",
    "factor in each direction of the bidirectional search?\n",
    "- d. Does the answer to (c) suggest a reformulation of the problem that would allow you to\n",
    "solve the problem of getting from state 1 to a given goal state with almost no search?\n",
    "- e. Call the action going from k to 2k Left, and the action going to 2k + 1 Right. Can you\n",
    "find an algorithm that outputs the solution to this problem without any search at all?\n",
    "\n",
    "See textbook Chapter3.15"
   ]
  },
  {
   "cell_type": "markdown",
   "metadata": {},
   "source": [
    "_your answer here..._ \n",
    "a. 1-2 1-3 2-4 2-5 3-6 3-7 4-8 4-9 5-10 5-11 6-12 6-13 7-14 7-15 8-16 8-17 9-18 9-19 10-20 10-21 11-22 11-23 12-24 12-25 13-26 13-27 14-28 14-29 15-30 15-31\n",
    "b.breadthfirst: 1 2 3 4 5 6 7 8 9 10 11\n",
    "  depth-limited: 1-2-4-8-9-5-10-11\n",
    "  iterative deepening search: 1 1-2-3 1-2-4-5-3-6-7 1-2-4-8-9-5-10-11\n",
    "c.It saves mach time. In the left hand the factor is 2k or 2k+1 while in the right hand is k div 2\n",
    "d.YES\n",
    "e.Change the form of the decimal system to the binary system. Start at the sesond digit, if it is 1, it means turn right while if it is 0, it means turn left. For example, 15(10) = 1111(2). It means start at 1 and chosse left for three times.\n",
    "    "
   ]
  },
  {
   "cell_type": "markdown",
   "metadata": {},
   "source": [
    "### Programming Excercises"
   ]
  },
  {
   "cell_type": "markdown",
   "metadata": {},
   "source": [
    "1\\.Write a program to solve a classic ancient Chinese puzzle:  \n",
    " We count 35 heads and 94 legs among the chickens and rabbits in a farm. How many rabbits and how many chickens do we have? "
   ]
  },
  {
   "cell_type": "code",
   "execution_count": 18,
   "metadata": {},
   "outputs": [
    {
     "name": "stdout",
     "output_type": "stream",
     "text": [
      "There are 23 chickens and 12 rabbits\n"
     ]
    }
   ],
   "source": [
    "##Hint:Use for loop to iterate all possible\n",
    "## write your answer here!\n",
    "heads = 35\n",
    "legs = 94\n",
    "for i in range(35):\n",
    "    ans = 2 * i + (35-i) * 4\n",
    "    if (ans == legs):\n",
    "        print(\"There are \"+str(i)+\" chickens and \"+str((35-i))+\" rabbits\")"
   ]
  },
  {
   "cell_type": "markdown",
   "metadata": {},
   "source": [
    "2\\. _Social networking_ Please look at the graph below of social relationships. You have a mango farm, you need to find a mango buyer and sell him your mango that you have grown (just a small farm). To this end, our principle is to use our social network of friends separated by one degree, and then second degree friends (friends of friends), third degree friends (friends of friends of friends).\n",
    "\n",
    "Use the depth first algorithm to search your network until you find a mango seller. \n",
    "\n",
    "We make an assumption that if the person's name ends with m, then it means the person must be the mango seller!\n",
    "\n",
    "\n",
    "<img src=\"img/p3.png\" width=\"500\" height=\"400\" >"
   ]
  },
  {
   "cell_type": "code",
   "execution_count": 1,
   "metadata": {},
   "outputs": [
    {
     "name": "stdout",
     "output_type": "stream",
     "text": [
      "thom\n"
     ]
    }
   ],
   "source": [
    "## write your answer here!\n",
    "name = ['you', 'bob', 'claire', 'anuj', 'peggy', 'thom', 'jonny', 'alice']\n",
    "map = [[0] * 8] * 8\n",
    "visited = [0] * 8\n",
    "visited[0] = 1\n",
    "map[0][1] = map[0][2] = map[0][7] = map[1][3] = map[1][4] = map[2][5] = map[2][4] = map[7][4] = 1\n",
    "stack = []\n",
    "stack.append(0)\n",
    "while len(stack) > 0:\n",
    "    cur = stack.pop(len(stack) - 1)\n",
    "    if name[cur][len(name[cur]) - 1] == 'm':\n",
    "        print(name[cur])\n",
    "        break\n",
    "    for i in range(8):\n",
    "        if (map[cur][i] == 1)and(visited[i] == 0):\n",
    "            stack.append(i)\n",
    "            visited[i] = 1"
   ]
  },
  {
   "cell_type": "markdown",
   "metadata": {},
   "source": [
    "3\\. Depth First traverse：Use depth first traversal to traverse all the DLL files on the C disk and output the file names.\n",
    "\n",
    "Update your code to search for a particular filename.\n",
    "\n",
    "What protocol did you use to select the next node to expand on the fringe?"
   ]
  },
  {
   "cell_type": "code",
   "execution_count": 7,
   "metadata": {},
   "outputs": [
    {
     "name": "stdout",
     "output_type": "stream",
     "text": [
      "file: /Users/daizhenze/study/人工智能/Artificial Intelligence A Modern Approach - Stuart J. Russell , Peter Norvig three.pdf\n"
     ]
    }
   ],
   "source": [
    "## write your answer here!\n",
    "import os\n",
    "\n",
    "\n",
    "def DFS_Dir(path, fileCallback=None):\n",
    "    stack = []\n",
    "    ret = []\n",
    "    stack.append(path)\n",
    "    while len(stack) > 0:\n",
    "        tmp = stack.pop(len(stack) - 1)\n",
    "        if (os.path.isdir(tmp)):\n",
    "            ret.append(tmp)\n",
    "            for item in os.listdir(tmp):\n",
    "                stack.append(os.path.join(tmp, item))\n",
    "        elif (os.path.isfile(tmp)):\n",
    "            if str(tmp).endswith(\".pdf\"):\n",
    "                ret.append(tmp)\n",
    "                if fileCallback:\n",
    "                    fileCallback(tmp)\n",
    "    return ret\n",
    "\n",
    "\n",
    "def printFile(path):\n",
    "    print(\"file: \" + path)\n",
    "\n",
    "\n",
    "d = DFS_Dir(r'/Users/daizhenze/study/人工智能/', printFile)"
   ]
  },
  {
   "cell_type": "markdown",
   "metadata": {},
   "source": [
    "4\\.\n",
    "Breadth First traverse：Use breadth traversal to traverse all the DLL files on the C disk and output the filename.\n",
    "\n",
    "Update your code to search for a particular filename."
   ]
  },
  {
   "cell_type": "code",
   "execution_count": 6,
   "metadata": {},
   "outputs": [
    {
     "name": "stdout",
     "output_type": "stream",
     "text": [
      "file: /Users/daizhenze/study/人工智能/Artificial Intelligence A Modern Approach - Stuart J. Russell , Peter Norvig three.pdf\n"
     ]
    }
   ],
   "source": [
    "## write your answer here!\n",
    "import os\n",
    "\n",
    "\n",
    "def BFS_Dir(path, fileCallback=None):\n",
    "    queue = []\n",
    "    ret = []\n",
    "    queue.append(path)\n",
    "    while len(queue) > 0:\n",
    "        tmp = queue.pop(0)\n",
    "        if (os.path.isdir(tmp)):\n",
    "            ret.append(tmp)\n",
    "            for item in os.listdir(tmp):\n",
    "                queue.append(os.path.join(tmp, item))\n",
    "        elif (os.path.isfile(tmp)):\n",
    "            if str(tmp).endswith(\".pdf\"):\n",
    "                ret.append(tmp)\n",
    "                if fileCallback:\n",
    "                    fileCallback(tmp)\n",
    "    return ret\n",
    "\n",
    "\n",
    "def printFile(path):\n",
    "    print(\"file: \" + path)\n",
    "\n",
    "\n",
    "d = BFS_Dir(r'/Users/daizhenze/study/人工智能/', printFile)"
   ]
  },
  {
   "cell_type": "markdown",
   "metadata": {},
   "source": [
    "5\\. Uniform cost search"
   ]
  },
  {
   "cell_type": "markdown",
   "metadata": {},
   "source": [
    "Consider a state space where the start state is 2 and each state k has three successors: numbers 2k, 2k+1, 2k+2. The cost from state k to each respective child is k, ground(k/2), k+2.\n",
    "\n",
    "can you implement a uniform-cost-search algorithm with python. The goal state is number 85."
   ]
  },
  {
   "cell_type": "code",
   "execution_count": 2,
   "metadata": {},
   "outputs": [
    {
     "name": "stdout",
     "output_type": "stream",
     "text": [
      "53\n"
     ]
    }
   ],
   "source": [
    "def cost(i, k):\n",
    "    if k == 0:\n",
    "        return i\n",
    "    elif k == 1:\n",
    "        return i//2\n",
    "    elif k == 2:\n",
    "        return i+2\n",
    "\n",
    "\n",
    "f = [-1] * 86\n",
    "i = 2\n",
    "f[2] = 0\n",
    "while not(i > 43):\n",
    "    for k in range(3):\n",
    "        if 2*i+k <= 85:\n",
    "            if f[2*i+k] == -1:\n",
    "                f[2*i+k] = f[i] + cost(i, k)\n",
    "            else:\n",
    "                if f[2*i+k]>f[i] + cost(i,k):\n",
    "                    f[2*i+k] = f[i] + cost(i, k)\n",
    "    i = i + 1\n",
    "print(f[85])"
   ]
  },
  {
   "cell_type": "markdown",
   "metadata": {},
   "source": [
    "6\\.a* question"
   ]
  },
  {
   "cell_type": "markdown",
   "metadata": {},
   "source": [
    "A cute cat stays in the A position, he is hungry. But the food is placed in the B position. Can you help him to find the food? \n",
    "Hint:  The problem isn't easy. It's essential for you to understand the A* algorithm before you solve this problem. Then, you can use some thought of Node in java, when you are in code.\n",
    "\n",
    "<img src=\"img/p4.png\" width=\"500\" height=\"400\" >\n"
   ]
  },
  {
   "cell_type": "code",
   "execution_count": 1,
   "metadata": {},
   "outputs": [
    {
     "name": "stdout",
     "output_type": "stream",
     "text": [
      "[(2, 1), (1, 1), (0, 1), (0, 2), (0, 3), (0, 4), (0, 5), (1, 5), (2, 5)] "
     ]
    }
   ],
   "source": [
    "## write your answer here!\n",
    "import numpy\n",
    "import heapq\n",
    "\n",
    "\n",
    "def heuristic_cost_estimate(neighbor, goal):\n",
    "    x = neighbor[0] - goal[0]\n",
    "    y = neighbor[1] - goal[1]\n",
    "    return abs(x) + abs(y)\n",
    "\n",
    "\n",
    "def dist_between(a, b):\n",
    "    return (b[0] - a[0]) ** 2 + (b[1] - a[1]) ** 2\n",
    "\n",
    "\n",
    "def reconstruct_path(came_from, current):\n",
    "    path = [current]\n",
    "    while current in came_from:\n",
    "        current = came_from[current]\n",
    "        path.append(current)\n",
    "    return path\n",
    "\n",
    "\n",
    "def astar(array, start, goal):\n",
    "    directions = [(0, 1), (0, -1), (1, 0), (-1, 0)]\n",
    "    close_set = set()\n",
    "    came_from = {}\n",
    "    gscore = {start: 0}\n",
    "    fscore = {start: heuristic_cost_estimate(start, goal)}\n",
    "    openSet = []\n",
    "    heapq.heappush(openSet, (fscore[start], start))\n",
    "    while openSet:\n",
    "        current = heapq.heappop(openSet)[1]\n",
    "        if current == goal:\n",
    "            return reconstruct_path(came_from, current)\n",
    "        close_set.add(current)\n",
    "        for i, j in directions:\n",
    "            neighbor = current[0] + i, current[1] + j\n",
    "            if 0 <= neighbor[0] < array.shape[0]:\n",
    "                if 0 <= neighbor[1] < array.shape[1]:\n",
    "                    if array[neighbor[0]][neighbor[1]] == 1:\n",
    "                        continue\n",
    "                else:\n",
    "                    continue\n",
    "            else:\n",
    "                continue\n",
    "            if neighbor in close_set:\n",
    "                continue\n",
    "            tentative_gScore = gscore[current] + dist_between(current, neighbor)\n",
    "            if neighbor not in [i[1] for i in openSet]:\n",
    "                heapq.heappush(openSet, (fscore.get(neighbor, numpy.inf), neighbor))\n",
    "            elif tentative_gScore >= gscore.get(neighbor, numpy.inf):\n",
    "                continue\n",
    "            came_from[neighbor] = current\n",
    "            gscore[neighbor] = tentative_gScore\n",
    "            fscore[neighbor] = tentative_gScore + heuristic_cost_estimate(neighbor, goal)\n",
    "\n",
    "    return False\n",
    "\n",
    "\n",
    "nmap = numpy.array([\n",
    "    [0, 0, 0, 0, 0, 0, 0],\n",
    "    [0, 0, 0, 1, 0, 0, 0],\n",
    "    [0, 0, 0, 1, 0, 0, 0],\n",
    "    [0, 0, 0, 1, 0, 0, 0],\n",
    "    [0, 0, 0, 0, 0, 0, 0]])\n",
    "path = astar(nmap, (2, 1), (2, 5))\n",
    "print(path[::-1], end=' ')"
   ]
  }
 ],
 "metadata": {
  "kernelspec": {
   "display_name": "Python 3",
   "language": "python",
   "name": "python3"
  },
  "language_info": {
   "codemirror_mode": {
    "name": "ipython",
    "version": 3
   },
   "file_extension": ".py",
   "mimetype": "text/x-python",
   "name": "python",
   "nbconvert_exporter": "python",
   "pygments_lexer": "ipython3",
   "version": "3.6.5"
  }
 },
 "nbformat": 4,
 "nbformat_minor": 2
}
