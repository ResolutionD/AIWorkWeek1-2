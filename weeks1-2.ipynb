{
 "cells": [
  {
   "cell_type": "code",
   "execution_count": 1,
   "metadata": {},
   "outputs": [],
   "source": [
    "fruits = [\"apple\", \"pear\", \"orange\", \"pinapple\", \"mandarin\"]"
   ]
  },
  {
   "cell_type": "code",
   "execution_count": 2,
   "metadata": {},
   "outputs": [],
   "source": [
    "fruits.append(\"banana\")\n",
    "fruits.append(\"kiwi\")"
   ]
  },
  {
   "cell_type": "code",
   "execution_count": 3,
   "metadata": {},
   "outputs": [
    {
     "name": "stdout",
     "output_type": "stream",
     "text": [
      "['apple', 'pear', 'orange', 'pinapple', 'mandarin', 'banana', 'kiwi']\n"
     ]
    }
   ],
   "source": [
    "print(fruits)"
   ]
  },
  {
   "cell_type": "code",
   "execution_count": 6,
   "metadata": {},
   "outputs": [
    {
     "name": "stdout",
     "output_type": "stream",
     "text": [
      "apple has 5 letters\n",
      "pear has 4 letters\n",
      "orange has 6 letters\n",
      "pinapple has 8 letters\n",
      "mandarin has 8 letters\n",
      "banana has 7 letters\n",
      "kiwi has 4 letters\n"
     ]
    }
   ],
   "source": [
    "amounts = [5, 4, 6, 8, 8, 7, 4]\n",
    "for i in range(len(fruits)):\n",
    "    print(str(fruits[i]) + \" has \" + str(amounts[i]) + \" letters\")"
   ]
  },
  {
   "cell_type": "code",
   "execution_count": 8,
   "metadata": {},
   "outputs": [],
   "source": [
    "def half_squared(ori):\n",
    "    for i in range(len(ori)):\n",
    "        ori[i] = ori[i] * ori[i] / 2\n",
    "    return ori"
   ]
  },
  {
   "cell_type": "code",
   "execution_count": 9,
   "metadata": {},
   "outputs": [
    {
     "data": {
      "text/plain": [
       "True"
      ]
     },
     "execution_count": 9,
     "metadata": {},
     "output_type": "execute_result"
    }
   ],
   "source": [
    "half_squared([3,3]) == [4.5,4.5]"
   ]
  },
  {
   "cell_type": "code",
   "execution_count": 15,
   "metadata": {},
   "outputs": [
    {
     "name": "stdout",
     "output_type": "stream",
     "text": [
      "Unexpected score, please check again\n",
      "Unexpected score, please check again\n",
      "A\n",
      "B\n",
      "C\n"
     ]
    }
   ],
   "source": [
    "n = int(input(\"input the amount of students: \"))\n",
    "for i in range(n):\n",
    "    score = int(input(\"input the score: \"))\n",
    "    if (score < 0 or score > 100):\n",
    "        print(\"Unexpected score, please check again\")\n",
    "    else:\n",
    "        if (score >= 90):\n",
    "            print(\"A\")\n",
    "        else:\n",
    "            if (score > 60):\n",
    "                print(\"B\")\n",
    "            else:\n",
    "                print(\"C\")      "
   ]
  },
  {
   "cell_type": "code",
   "execution_count": 19,
   "metadata": {},
   "outputs": [
    {
     "name": "stdout",
     "output_type": "stream",
     "text": [
      "[30, 20, 10]\n"
     ]
    }
   ],
   "source": [
    "a = [];\n",
    "for i in range(3):\n",
    "    a.append(int(input()))\n",
    "a.sort(reverse = True)\n",
    "print(a)"
   ]
  },
  {
   "cell_type": "code",
   "execution_count": 20,
   "metadata": {},
   "outputs": [
    {
     "name": "stdout",
     "output_type": "stream",
     "text": [
      "[1, 2, 3, 4, 5, 6]\n"
     ]
    }
   ],
   "source": [
    "list1 = [1, 2, 3]\n",
    "list2 = [4, 5, 6]\n",
    "array = [list1, list2]\n",
    "a = []\n",
    "for i in range(len(array)):\n",
    "    for j in range(len(array[i])):\n",
    "        a.append(array[i][j])\n",
    "print(a)"
   ]
  },
  {
   "cell_type": "code",
   "execution_count": 25,
   "metadata": {},
   "outputs": [
    {
     "name": "stdout",
     "output_type": "stream",
     "text": [
      "1\n",
      "8\n",
      "17\n",
      "18\n",
      "26\n",
      "27\n"
     ]
    }
   ],
   "source": [
    "a = []\n",
    "for i in range(100):\n",
    "    a.append(i+1)\n",
    "def f(x):\n",
    "    tot = x ** 3\n",
    "    ans = 0\n",
    "    while (tot > 0):\n",
    "        ans += tot % 10\n",
    "        tot = int(tot / 10)\n",
    "    if (ans == x):\n",
    "        return ans\n",
    "    else:\n",
    "        return -1\n",
    "for i in map(f,a):\n",
    "    if (i != -1):\n",
    "        print(i)"
   ]
  },
  {
   "cell_type": "code",
   "execution_count": 28,
   "metadata": {},
   "outputs": [
    {
     "name": "stdout",
     "output_type": "stream",
     "text": [
      "the origin value is x = 4 y = 1\n",
      "the exchanged value is x = 1 y = 4\n"
     ]
    }
   ],
   "source": [
    "import random\n",
    "x = random.randint(1,10)\n",
    "y = random.randint(1,10)\n",
    "print(\"the origin value is x = \" + str(x) + \" y = \" + str(y))\n",
    "x, y = y, x\n",
    "print(\"the exchanged value is x = \" + str(x) + \" y = \" + str(y))"
   ]
  },
  {
   "cell_type": "code",
   "execution_count": 39,
   "metadata": {},
   "outputs": [
    {
     "name": "stdout",
     "output_type": "stream",
     "text": [
      "#     *\n",
      "#    ***\n",
      "#   *****\n",
      "#  *******\n",
      "#   *****\n",
      "#    ***\n",
      "#     *\n"
     ]
    }
   ],
   "source": [
    "line = []\n",
    "for i in range(4):\n",
    "    s1 = \"#\"+\" \" * (5 - i) + \"*\" * (2 * i + 1)\n",
    "    line.append(s1)\n",
    "    print(s1)\n",
    "for i in range(3):\n",
    "    print(line[2 - i])"
   ]
  },
  {
   "cell_type": "markdown",
   "metadata": {},
   "source": [
    "a = [1, 2, 3, 4, 5, 6]\n",
    "for i in range(6):\n",
    "    for j in range(6):\n",
    "        print(a[(i + j) % 6],end = \"\")\n",
    "    print()"
   ]
  },
  {
   "cell_type": "code",
   "execution_count": 44,
   "metadata": {},
   "outputs": [
    {
     "name": "stdout",
     "output_type": "stream",
     "text": [
      "Charles Martina Michael Florence Eli "
     ]
    }
   ],
   "source": [
    "players = ['charles', 'martina', 'michael', 'Florence', 'eli']\n",
    "for i in range(len(players)):\n",
    "    print(players[i].title(), end = \" \")"
   ]
  }
 ],
 "metadata": {
  "kernelspec": {
   "display_name": "Python 3",
   "language": "python",
   "name": "python3"
  },
  "language_info": {
   "codemirror_mode": {
    "name": "ipython",
    "version": 3
   },
   "file_extension": ".py",
   "mimetype": "text/x-python",
   "name": "python",
   "nbconvert_exporter": "python",
   "pygments_lexer": "ipython3",
   "version": "3.6.5"
  }
 },
 "nbformat": 4,
 "nbformat_minor": 2
}
